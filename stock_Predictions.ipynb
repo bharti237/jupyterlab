{
  "cells": [
    {
      "cell_type": "markdown",
      "metadata": {
        "id": "view-in-github",
        "colab_type": "text"
      },
      "source": [
        "<a href=\"https://colab.research.google.com/github/bharti237/jupyterlab/blob/main/stock_Predictions.ipynb\" target=\"_parent\"><img src=\"https://colab.research.google.com/assets/colab-badge.svg\" alt=\"Open In Colab\"/></a>"
      ]
    },
    {
      "cell_type": "markdown",
      "id": "695ff3b6",
      "metadata": {
        "id": "695ff3b6"
      },
      "source": [
        "# BHARAT INTERN\n",
        "# NAME- BHARTI"
      ]
    },
    {
      "cell_type": "markdown",
      "id": "1da5eed1",
      "metadata": {
        "id": "1da5eed1"
      },
      "source": [
        "# TASK 1 =  GOOGLE STOCK PREDICTION"
      ]
    },
    {
      "cell_type": "markdown",
      "id": "120f3e9e",
      "metadata": {
        "id": "120f3e9e"
      },
      "source": [
        "## In This task we will predict the variation in stock price from high to low . In this we use Lstm  Time series"
      ]
    },
    {
      "cell_type": "markdown",
      "id": "a5ad2c88",
      "metadata": {
        "id": "a5ad2c88"
      },
      "source": [
        "# Importing Libraries"
      ]
    },
    {
      "cell_type": "code",
      "execution_count": null,
      "id": "85b6c4c7",
      "metadata": {
        "id": "85b6c4c7",
        "outputId": "8e874ecb-19bb-42e8-d678-ad58fe0a29aa"
      },
      "outputs": [
        {
          "name": "stderr",
          "output_type": "stream",
          "text": [
            "UsageError: Line magic function `%matplot` not found.\n"
          ]
        }
      ],
      "source": [
        "import pandas as pd\n",
        "import numpy as np\n",
        "import matplotlib.pyplot as plt\n",
        "%matplot  inline_notebook\n",
        "\n",
        "import chart_studio.plotly as py\n",
        "import plotly.graph_objs as go\n",
        "from plotly.offline import plot\n",
        "from keras.models import Sequential\n"
      ]
    },
    {
      "cell_type": "code",
      "execution_count": null,
      "id": "f9e65783",
      "metadata": {
        "id": "f9e65783"
      },
      "outputs": [],
      "source": [
        "\n",
        "import pandas as pd\n",
        "import numpy as np\n",
        "\n",
        "\n",
        "import os\n",
        "from keras.models import Sequential\n",
        "from keras.layers import LSTM, Dense\n",
        "from sklearn.preprocessing import StandardScaler\n",
        "import matplotlib.pyplot as plt\n",
        "plt.style.use('fivethirtyeight')\n",
        "\n",
        "pd.options.mode.chained_assignment = None"
      ]
    },
    {
      "cell_type": "code",
      "execution_count": null,
      "id": "b8ff1a60",
      "metadata": {
        "id": "b8ff1a60"
      },
      "outputs": [],
      "source": [
        "google=pd.read_csv(r\"/Users/apple/Downloads/GOOG-year.csv\")"
      ]
    },
    {
      "cell_type": "code",
      "execution_count": null,
      "id": "c5464c54",
      "metadata": {
        "scrolled": true,
        "id": "c5464c54",
        "outputId": "ddd07f1f-45c3-4b0a-abd6-0e7357a72276"
      },
      "outputs": [
        {
          "data": {
            "text/html": [
              "<div>\n",
              "<style scoped>\n",
              "    .dataframe tbody tr th:only-of-type {\n",
              "        vertical-align: middle;\n",
              "    }\n",
              "\n",
              "    .dataframe tbody tr th {\n",
              "        vertical-align: top;\n",
              "    }\n",
              "\n",
              "    .dataframe thead th {\n",
              "        text-align: right;\n",
              "    }\n",
              "</style>\n",
              "<table border=\"1\" class=\"dataframe\">\n",
              "  <thead>\n",
              "    <tr style=\"text-align: right;\">\n",
              "      <th></th>\n",
              "      <th>Date</th>\n",
              "      <th>Open</th>\n",
              "      <th>High</th>\n",
              "      <th>Low</th>\n",
              "      <th>Close</th>\n",
              "      <th>Adj Close</th>\n",
              "      <th>Volume</th>\n",
              "    </tr>\n",
              "  </thead>\n",
              "  <tbody>\n",
              "    <tr>\n",
              "      <th>0</th>\n",
              "      <td>2016-11-02</td>\n",
              "      <td>778.200012</td>\n",
              "      <td>781.650024</td>\n",
              "      <td>763.450012</td>\n",
              "      <td>768.700012</td>\n",
              "      <td>768.700012</td>\n",
              "      <td>1872400</td>\n",
              "    </tr>\n",
              "    <tr>\n",
              "      <th>1</th>\n",
              "      <td>2016-11-03</td>\n",
              "      <td>767.250000</td>\n",
              "      <td>769.950012</td>\n",
              "      <td>759.030029</td>\n",
              "      <td>762.130005</td>\n",
              "      <td>762.130005</td>\n",
              "      <td>1943200</td>\n",
              "    </tr>\n",
              "    <tr>\n",
              "      <th>2</th>\n",
              "      <td>2016-11-04</td>\n",
              "      <td>750.659973</td>\n",
              "      <td>770.359985</td>\n",
              "      <td>750.560974</td>\n",
              "      <td>762.020020</td>\n",
              "      <td>762.020020</td>\n",
              "      <td>2134800</td>\n",
              "    </tr>\n",
              "    <tr>\n",
              "      <th>3</th>\n",
              "      <td>2016-11-07</td>\n",
              "      <td>774.500000</td>\n",
              "      <td>785.190002</td>\n",
              "      <td>772.549988</td>\n",
              "      <td>782.520020</td>\n",
              "      <td>782.520020</td>\n",
              "      <td>1585100</td>\n",
              "    </tr>\n",
              "    <tr>\n",
              "      <th>4</th>\n",
              "      <td>2016-11-08</td>\n",
              "      <td>783.400024</td>\n",
              "      <td>795.632996</td>\n",
              "      <td>780.190002</td>\n",
              "      <td>790.510010</td>\n",
              "      <td>790.510010</td>\n",
              "      <td>1350800</td>\n",
              "    </tr>\n",
              "    <tr>\n",
              "      <th>5</th>\n",
              "      <td>2016-11-09</td>\n",
              "      <td>779.940002</td>\n",
              "      <td>791.226990</td>\n",
              "      <td>771.669983</td>\n",
              "      <td>785.309998</td>\n",
              "      <td>785.309998</td>\n",
              "      <td>2607100</td>\n",
              "    </tr>\n",
              "    <tr>\n",
              "      <th>6</th>\n",
              "      <td>2016-11-10</td>\n",
              "      <td>791.169983</td>\n",
              "      <td>791.169983</td>\n",
              "      <td>752.179993</td>\n",
              "      <td>762.559998</td>\n",
              "      <td>762.559998</td>\n",
              "      <td>4745200</td>\n",
              "    </tr>\n",
              "    <tr>\n",
              "      <th>7</th>\n",
              "      <td>2016-11-11</td>\n",
              "      <td>756.539978</td>\n",
              "      <td>760.780029</td>\n",
              "      <td>750.380005</td>\n",
              "      <td>754.020020</td>\n",
              "      <td>754.020020</td>\n",
              "      <td>2431800</td>\n",
              "    </tr>\n",
              "    <tr>\n",
              "      <th>8</th>\n",
              "      <td>2016-11-14</td>\n",
              "      <td>755.599976</td>\n",
              "      <td>757.849976</td>\n",
              "      <td>727.539978</td>\n",
              "      <td>736.080017</td>\n",
              "      <td>736.080017</td>\n",
              "      <td>3631700</td>\n",
              "    </tr>\n",
              "    <tr>\n",
              "      <th>9</th>\n",
              "      <td>2016-11-15</td>\n",
              "      <td>746.969971</td>\n",
              "      <td>764.416016</td>\n",
              "      <td>746.969971</td>\n",
              "      <td>758.489990</td>\n",
              "      <td>758.489990</td>\n",
              "      <td>2384000</td>\n",
              "    </tr>\n",
              "  </tbody>\n",
              "</table>\n",
              "</div>"
            ],
            "text/plain": [
              "         Date        Open        High         Low       Close   Adj Close   \n",
              "0  2016-11-02  778.200012  781.650024  763.450012  768.700012  768.700012  \\\n",
              "1  2016-11-03  767.250000  769.950012  759.030029  762.130005  762.130005   \n",
              "2  2016-11-04  750.659973  770.359985  750.560974  762.020020  762.020020   \n",
              "3  2016-11-07  774.500000  785.190002  772.549988  782.520020  782.520020   \n",
              "4  2016-11-08  783.400024  795.632996  780.190002  790.510010  790.510010   \n",
              "5  2016-11-09  779.940002  791.226990  771.669983  785.309998  785.309998   \n",
              "6  2016-11-10  791.169983  791.169983  752.179993  762.559998  762.559998   \n",
              "7  2016-11-11  756.539978  760.780029  750.380005  754.020020  754.020020   \n",
              "8  2016-11-14  755.599976  757.849976  727.539978  736.080017  736.080017   \n",
              "9  2016-11-15  746.969971  764.416016  746.969971  758.489990  758.489990   \n",
              "\n",
              "    Volume  \n",
              "0  1872400  \n",
              "1  1943200  \n",
              "2  2134800  \n",
              "3  1585100  \n",
              "4  1350800  \n",
              "5  2607100  \n",
              "6  4745200  \n",
              "7  2431800  \n",
              "8  3631700  \n",
              "9  2384000  "
            ]
          },
          "execution_count": 16,
          "metadata": {},
          "output_type": "execute_result"
        }
      ],
      "source": [
        "google.head(10)"
      ]
    },
    {
      "cell_type": "code",
      "execution_count": null,
      "id": "84f95c3f",
      "metadata": {
        "id": "84f95c3f",
        "outputId": "63a8872a-9e3d-4e7d-dd56-ea4be0bf540a"
      },
      "outputs": [
        {
          "name": "stdout",
          "output_type": "stream",
          "text": [
            "<class 'pandas.core.frame.DataFrame'>\n",
            "RangeIndex: 252 entries, 0 to 251\n",
            "Data columns (total 7 columns):\n",
            " #   Column     Non-Null Count  Dtype  \n",
            "---  ------     --------------  -----  \n",
            " 0   Date       252 non-null    object \n",
            " 1   Open       252 non-null    float64\n",
            " 2   High       252 non-null    float64\n",
            " 3   Low        252 non-null    float64\n",
            " 4   Close      252 non-null    float64\n",
            " 5   Adj Close  252 non-null    float64\n",
            " 6   Volume     252 non-null    int64  \n",
            "dtypes: float64(5), int64(1), object(1)\n",
            "memory usage: 13.9+ KB\n"
          ]
        }
      ],
      "source": [
        "google.info()"
      ]
    },
    {
      "cell_type": "code",
      "execution_count": null,
      "id": "fab9452f",
      "metadata": {
        "id": "fab9452f"
      },
      "outputs": [],
      "source": [
        "google[\"Date\"]=pd.to_datetime(google[\"Date\"])"
      ]
    },
    {
      "cell_type": "code",
      "execution_count": null,
      "id": "534481f6",
      "metadata": {
        "id": "534481f6",
        "outputId": "fb14e21b-2b2c-4951-eedc-9b71662e04cb"
      },
      "outputs": [
        {
          "data": {
            "text/plain": [
              "252"
            ]
          },
          "execution_count": 19,
          "metadata": {},
          "output_type": "execute_result"
        }
      ],
      "source": [
        "google.value_counts().sum()"
      ]
    },
    {
      "cell_type": "code",
      "execution_count": null,
      "id": "ce2c18bb",
      "metadata": {
        "id": "ce2c18bb",
        "outputId": "d93fdd8f-219d-4dd3-b134-b27fc5046cb1"
      },
      "outputs": [
        {
          "data": {
            "text/html": [
              "<div>\n",
              "<style scoped>\n",
              "    .dataframe tbody tr th:only-of-type {\n",
              "        vertical-align: middle;\n",
              "    }\n",
              "\n",
              "    .dataframe tbody tr th {\n",
              "        vertical-align: top;\n",
              "    }\n",
              "\n",
              "    .dataframe thead th {\n",
              "        text-align: right;\n",
              "    }\n",
              "</style>\n",
              "<table border=\"1\" class=\"dataframe\">\n",
              "  <thead>\n",
              "    <tr style=\"text-align: right;\">\n",
              "      <th></th>\n",
              "      <th>Date</th>\n",
              "      <th>Open</th>\n",
              "      <th>High</th>\n",
              "      <th>Low</th>\n",
              "      <th>Close</th>\n",
              "      <th>Adj Close</th>\n",
              "      <th>Volume</th>\n",
              "    </tr>\n",
              "  </thead>\n",
              "  <tbody>\n",
              "    <tr>\n",
              "      <th>count</th>\n",
              "      <td>252</td>\n",
              "      <td>252.000000</td>\n",
              "      <td>252.000000</td>\n",
              "      <td>252.000000</td>\n",
              "      <td>252.000000</td>\n",
              "      <td>252.000000</td>\n",
              "      <td>2.520000e+02</td>\n",
              "    </tr>\n",
              "    <tr>\n",
              "      <th>mean</th>\n",
              "      <td>2017-05-04 13:37:08.571428608</td>\n",
              "      <td>879.093372</td>\n",
              "      <td>884.680774</td>\n",
              "      <td>873.167521</td>\n",
              "      <td>879.446549</td>\n",
              "      <td>879.446549</td>\n",
              "      <td>1.554527e+06</td>\n",
              "    </tr>\n",
              "    <tr>\n",
              "      <th>min</th>\n",
              "      <td>2016-11-02 00:00:00</td>\n",
              "      <td>744.590027</td>\n",
              "      <td>754.000000</td>\n",
              "      <td>727.539978</td>\n",
              "      <td>736.080017</td>\n",
              "      <td>736.080017</td>\n",
              "      <td>5.874000e+05</td>\n",
              "    </tr>\n",
              "    <tr>\n",
              "      <th>25%</th>\n",
              "      <td>2017-02-02 18:00:00</td>\n",
              "      <td>809.097504</td>\n",
              "      <td>815.692520</td>\n",
              "      <td>804.339981</td>\n",
              "      <td>812.642487</td>\n",
              "      <td>812.642487</td>\n",
              "      <td>1.125100e+06</td>\n",
              "    </tr>\n",
              "    <tr>\n",
              "      <th>50%</th>\n",
              "      <td>2017-05-04 12:00:00</td>\n",
              "      <td>908.409973</td>\n",
              "      <td>915.477508</td>\n",
              "      <td>904.200012</td>\n",
              "      <td>907.984985</td>\n",
              "      <td>907.984985</td>\n",
              "      <td>1.351950e+06</td>\n",
              "    </tr>\n",
              "    <tr>\n",
              "      <th>75%</th>\n",
              "      <td>2017-08-03 06:00:00</td>\n",
              "      <td>938.899994</td>\n",
              "      <td>943.401748</td>\n",
              "      <td>930.144989</td>\n",
              "      <td>940.750000</td>\n",
              "      <td>940.750000</td>\n",
              "      <td>1.710100e+06</td>\n",
              "    </tr>\n",
              "    <tr>\n",
              "      <th>max</th>\n",
              "      <td>2017-11-01 00:00:00</td>\n",
              "      <td>1017.210022</td>\n",
              "      <td>1048.390015</td>\n",
              "      <td>1016.950012</td>\n",
              "      <td>1025.500000</td>\n",
              "      <td>1025.500000</td>\n",
              "      <td>5.167700e+06</td>\n",
              "    </tr>\n",
              "    <tr>\n",
              "      <th>std</th>\n",
              "      <td>NaN</td>\n",
              "      <td>74.405990</td>\n",
              "      <td>75.014245</td>\n",
              "      <td>73.978346</td>\n",
              "      <td>74.622152</td>\n",
              "      <td>74.622152</td>\n",
              "      <td>6.822470e+05</td>\n",
              "    </tr>\n",
              "  </tbody>\n",
              "</table>\n",
              "</div>"
            ],
            "text/plain": [
              "                                Date         Open         High          Low   \n",
              "count                            252   252.000000   252.000000   252.000000  \\\n",
              "mean   2017-05-04 13:37:08.571428608   879.093372   884.680774   873.167521   \n",
              "min              2016-11-02 00:00:00   744.590027   754.000000   727.539978   \n",
              "25%              2017-02-02 18:00:00   809.097504   815.692520   804.339981   \n",
              "50%              2017-05-04 12:00:00   908.409973   915.477508   904.200012   \n",
              "75%              2017-08-03 06:00:00   938.899994   943.401748   930.144989   \n",
              "max              2017-11-01 00:00:00  1017.210022  1048.390015  1016.950012   \n",
              "std                              NaN    74.405990    75.014245    73.978346   \n",
              "\n",
              "             Close    Adj Close        Volume  \n",
              "count   252.000000   252.000000  2.520000e+02  \n",
              "mean    879.446549   879.446549  1.554527e+06  \n",
              "min     736.080017   736.080017  5.874000e+05  \n",
              "25%     812.642487   812.642487  1.125100e+06  \n",
              "50%     907.984985   907.984985  1.351950e+06  \n",
              "75%     940.750000   940.750000  1.710100e+06  \n",
              "max    1025.500000  1025.500000  5.167700e+06  \n",
              "std      74.622152    74.622152  6.822470e+05  "
            ]
          },
          "execution_count": 20,
          "metadata": {},
          "output_type": "execute_result"
        }
      ],
      "source": [
        "google.describe()"
      ]
    },
    {
      "cell_type": "code",
      "execution_count": null,
      "id": "d51d691b",
      "metadata": {
        "id": "d51d691b",
        "outputId": "b62d06d5-f44a-454e-de1f-c80c269407de"
      },
      "outputs": [
        {
          "data": {
            "text/plain": [
              "(252, 7)"
            ]
          },
          "execution_count": 21,
          "metadata": {},
          "output_type": "execute_result"
        }
      ],
      "source": [
        "google.shape"
      ]
    },
    {
      "cell_type": "code",
      "execution_count": null,
      "id": "704b07c1",
      "metadata": {
        "id": "704b07c1"
      },
      "outputs": [],
      "source": [
        "google.drop(columns=\"Adj Close\",inplace=True)"
      ]
    },
    {
      "cell_type": "code",
      "execution_count": null,
      "id": "6c2cf686",
      "metadata": {
        "id": "6c2cf686",
        "outputId": "db1387c6-5a59-4b36-93d6-b023db8b8471"
      },
      "outputs": [
        {
          "data": {
            "text/html": [
              "<div>\n",
              "<style scoped>\n",
              "    .dataframe tbody tr th:only-of-type {\n",
              "        vertical-align: middle;\n",
              "    }\n",
              "\n",
              "    .dataframe tbody tr th {\n",
              "        vertical-align: top;\n",
              "    }\n",
              "\n",
              "    .dataframe thead th {\n",
              "        text-align: right;\n",
              "    }\n",
              "</style>\n",
              "<table border=\"1\" class=\"dataframe\">\n",
              "  <thead>\n",
              "    <tr style=\"text-align: right;\">\n",
              "      <th></th>\n",
              "      <th>Date</th>\n",
              "      <th>Open</th>\n",
              "      <th>High</th>\n",
              "      <th>Low</th>\n",
              "      <th>Close</th>\n",
              "      <th>Volume</th>\n",
              "    </tr>\n",
              "  </thead>\n",
              "  <tbody>\n",
              "    <tr>\n",
              "      <th>0</th>\n",
              "      <td>2016-11-02</td>\n",
              "      <td>778.200012</td>\n",
              "      <td>781.650024</td>\n",
              "      <td>763.450012</td>\n",
              "      <td>768.700012</td>\n",
              "      <td>1872400</td>\n",
              "    </tr>\n",
              "    <tr>\n",
              "      <th>1</th>\n",
              "      <td>2016-11-03</td>\n",
              "      <td>767.250000</td>\n",
              "      <td>769.950012</td>\n",
              "      <td>759.030029</td>\n",
              "      <td>762.130005</td>\n",
              "      <td>1943200</td>\n",
              "    </tr>\n",
              "    <tr>\n",
              "      <th>2</th>\n",
              "      <td>2016-11-04</td>\n",
              "      <td>750.659973</td>\n",
              "      <td>770.359985</td>\n",
              "      <td>750.560974</td>\n",
              "      <td>762.020020</td>\n",
              "      <td>2134800</td>\n",
              "    </tr>\n",
              "    <tr>\n",
              "      <th>3</th>\n",
              "      <td>2016-11-07</td>\n",
              "      <td>774.500000</td>\n",
              "      <td>785.190002</td>\n",
              "      <td>772.549988</td>\n",
              "      <td>782.520020</td>\n",
              "      <td>1585100</td>\n",
              "    </tr>\n",
              "    <tr>\n",
              "      <th>4</th>\n",
              "      <td>2016-11-08</td>\n",
              "      <td>783.400024</td>\n",
              "      <td>795.632996</td>\n",
              "      <td>780.190002</td>\n",
              "      <td>790.510010</td>\n",
              "      <td>1350800</td>\n",
              "    </tr>\n",
              "    <tr>\n",
              "      <th>5</th>\n",
              "      <td>2016-11-09</td>\n",
              "      <td>779.940002</td>\n",
              "      <td>791.226990</td>\n",
              "      <td>771.669983</td>\n",
              "      <td>785.309998</td>\n",
              "      <td>2607100</td>\n",
              "    </tr>\n",
              "    <tr>\n",
              "      <th>6</th>\n",
              "      <td>2016-11-10</td>\n",
              "      <td>791.169983</td>\n",
              "      <td>791.169983</td>\n",
              "      <td>752.179993</td>\n",
              "      <td>762.559998</td>\n",
              "      <td>4745200</td>\n",
              "    </tr>\n",
              "    <tr>\n",
              "      <th>7</th>\n",
              "      <td>2016-11-11</td>\n",
              "      <td>756.539978</td>\n",
              "      <td>760.780029</td>\n",
              "      <td>750.380005</td>\n",
              "      <td>754.020020</td>\n",
              "      <td>2431800</td>\n",
              "    </tr>\n",
              "    <tr>\n",
              "      <th>8</th>\n",
              "      <td>2016-11-14</td>\n",
              "      <td>755.599976</td>\n",
              "      <td>757.849976</td>\n",
              "      <td>727.539978</td>\n",
              "      <td>736.080017</td>\n",
              "      <td>3631700</td>\n",
              "    </tr>\n",
              "    <tr>\n",
              "      <th>9</th>\n",
              "      <td>2016-11-15</td>\n",
              "      <td>746.969971</td>\n",
              "      <td>764.416016</td>\n",
              "      <td>746.969971</td>\n",
              "      <td>758.489990</td>\n",
              "      <td>2384000</td>\n",
              "    </tr>\n",
              "  </tbody>\n",
              "</table>\n",
              "</div>"
            ],
            "text/plain": [
              "        Date        Open        High         Low       Close   Volume\n",
              "0 2016-11-02  778.200012  781.650024  763.450012  768.700012  1872400\n",
              "1 2016-11-03  767.250000  769.950012  759.030029  762.130005  1943200\n",
              "2 2016-11-04  750.659973  770.359985  750.560974  762.020020  2134800\n",
              "3 2016-11-07  774.500000  785.190002  772.549988  782.520020  1585100\n",
              "4 2016-11-08  783.400024  795.632996  780.190002  790.510010  1350800\n",
              "5 2016-11-09  779.940002  791.226990  771.669983  785.309998  2607100\n",
              "6 2016-11-10  791.169983  791.169983  752.179993  762.559998  4745200\n",
              "7 2016-11-11  756.539978  760.780029  750.380005  754.020020  2431800\n",
              "8 2016-11-14  755.599976  757.849976  727.539978  736.080017  3631700\n",
              "9 2016-11-15  746.969971  764.416016  746.969971  758.489990  2384000"
            ]
          },
          "execution_count": 23,
          "metadata": {},
          "output_type": "execute_result"
        }
      ],
      "source": [
        "google.head(10)"
      ]
    },
    {
      "cell_type": "code",
      "execution_count": null,
      "id": "5f745e07",
      "metadata": {
        "id": "5f745e07",
        "outputId": "82845191-3829-45e8-e422-1447bd7f42cc"
      },
      "outputs": [
        {
          "data": {
            "text/plain": [
              "<AxesSubplot:>"
            ]
          },
          "execution_count": 24,
          "metadata": {},
          "output_type": "execute_result"
        },
        {
          "data": {
            "image/png": "[encoded data removed]",
            "text/plain": [
              "<Figure size 640x480 with 1 Axes>"
            ]
          },
          "metadata": {},
          "output_type": "display_data"
        }
      ],
      "source": [
        "google[['Open','High','Low','Close','Volume']].plot(kind='box')"
      ]
    },
    {
      "cell_type": "code",
      "execution_count": null,
      "id": "739c3362",
      "metadata": {
        "id": "739c3362",
        "outputId": "ecc71c3e-350d-49e7-c39e-2e631a82f9e1"
      },
      "outputs": [
        {
          "data": {
            "text/plain": [
              "<AxesSubplot:>"
            ]
          },
          "execution_count": 25,
          "metadata": {},
          "output_type": "execute_result"
        },
        {
          "data": {
            "image/png": "[encoded data removed]",
            "text/plain": [
              "<Figure size 640x480 with 1 Axes>"
            ]
          },
          "metadata": {},
          "output_type": "display_data"
        }
      ],
      "source": [
        "google.plot(kind = \"line\", y = ['Open', 'High', 'Low','Close'])\n"
      ]
    },
    {
      "cell_type": "markdown",
      "id": "9fb8f7d5",
      "metadata": {
        "id": "9fb8f7d5"
      },
      "source": [
        "# Create a new dataframe with only Close Column"
      ]
    },
    {
      "cell_type": "code",
      "execution_count": null,
      "id": "a178831c",
      "metadata": {
        "id": "a178831c"
      },
      "outputs": [],
      "source": [
        "data = google.filter(['Close'])"
      ]
    },
    {
      "cell_type": "markdown",
      "id": "41b95c7e",
      "metadata": {
        "id": "41b95c7e"
      },
      "source": [
        "# Convert the dataframe to numpy array"
      ]
    },
    {
      "cell_type": "code",
      "execution_count": null,
      "id": "c5859664",
      "metadata": {
        "id": "c5859664"
      },
      "outputs": [],
      "source": [
        "dataset = data.values"
      ]
    },
    {
      "cell_type": "markdown",
      "id": "49c68ad6",
      "metadata": {
        "id": "49c68ad6"
      },
      "source": [
        "# Train 80 percent of number of rows"
      ]
    },
    {
      "cell_type": "code",
      "execution_count": null,
      "id": "dd161dda",
      "metadata": {
        "id": "dd161dda",
        "outputId": "27163a89-335c-475d-eb6a-8bfbf9d8e413"
      },
      "outputs": [
        {
          "data": {
            "text/plain": [
              "202"
            ]
          },
          "execution_count": 28,
          "metadata": {},
          "output_type": "execute_result"
        }
      ],
      "source": [
        "training_data_len = int(np.ceil( len(dataset) *0.8 ))\n",
        "\n",
        "training_data_len"
      ]
    },
    {
      "cell_type": "markdown",
      "id": "71230b99",
      "metadata": {
        "id": "71230b99"
      },
      "source": [
        "# Scale the data"
      ]
    },
    {
      "cell_type": "code",
      "execution_count": null,
      "id": "9e6fd2f4",
      "metadata": {
        "id": "9e6fd2f4",
        "outputId": "6dd99e6d-1b26-41d5-b434-1dfe369522fb"
      },
      "outputs": [
        {
          "name": "stdout",
          "output_type": "stream",
          "text": [
            "MEAN of processed data:  1.2406301735493812e-15\n",
            "Standard Deviation of processed data:  0.9999999999999999\n"
          ]
        }
      ],
      "source": [
        "from sklearn.preprocessing import StandardScaler\n",
        "scaler = StandardScaler()\n",
        "scaled_data = scaler.fit_transform(dataset)\n",
        "print(\"MEAN of processed data: \",scaled_data.mean())\n",
        "print(\"Standard Deviation of processed data: \",scaled_data.std())"
      ]
    },
    {
      "cell_type": "markdown",
      "id": "663165a6",
      "metadata": {
        "id": "663165a6"
      },
      "source": [
        "# Split the data into x_train and y_train"
      ]
    },
    {
      "cell_type": "code",
      "execution_count": null,
      "id": "8a7ba002",
      "metadata": {
        "id": "8a7ba002"
      },
      "outputs": [],
      "source": [
        "train_data = scaled_data[0:int(training_data_len), :]"
      ]
    },
    {
      "cell_type": "code",
      "execution_count": null,
      "id": "a94aec97",
      "metadata": {
        "id": "a94aec97"
      },
      "outputs": [],
      "source": [
        "x_train = []\n",
        "y_train = []\n",
        "for i in range(60, len(train_data)):\n",
        "    x_train.append(train_data[i-60:i, 0])\n",
        "    y_train.append(train_data[i, 0])\n"
      ]
    },
    {
      "cell_type": "markdown",
      "id": "8ce75682",
      "metadata": {
        "id": "8ce75682"
      },
      "source": [
        "# Convert the x_train and y_train to numpy arrays"
      ]
    },
    {
      "cell_type": "code",
      "execution_count": null,
      "id": "ce2df69d",
      "metadata": {
        "id": "ce2df69d"
      },
      "outputs": [],
      "source": [
        "x_train, y_train = np.array(x_train), np.array(y_train)"
      ]
    },
    {
      "cell_type": "markdown",
      "id": "649de4fa",
      "metadata": {
        "id": "649de4fa"
      },
      "source": [
        "# Reshape the data - x_train"
      ]
    },
    {
      "cell_type": "code",
      "execution_count": null,
      "id": "878bb670",
      "metadata": {
        "id": "878bb670",
        "outputId": "cd56d6c3-bca0-4285-bad0-0eca60571fd1"
      },
      "outputs": [
        {
          "name": "stdout",
          "output_type": "stream",
          "text": [
            "(142, 60, 1)\n"
          ]
        }
      ],
      "source": [
        "x_train = np.reshape(x_train, (x_train.shape[0], x_train.shape[1], 1))\n",
        "print(x_train.shape)"
      ]
    },
    {
      "cell_type": "markdown",
      "id": "be128ce6",
      "metadata": {
        "id": "be128ce6"
      },
      "source": [
        "# Build LSTM Model"
      ]
    },
    {
      "cell_type": "code",
      "execution_count": null,
      "id": "09e5b80a",
      "metadata": {
        "id": "09e5b80a",
        "outputId": "b1313503-dbcd-49b3-8af0-e62b7a3d0ea0"
      },
      "outputs": [
        {
          "name": "stderr",
          "output_type": "stream",
          "text": [
            "2023-06-07 01:29:11.250021: I tensorflow/core/common_runtime/executor.cc:1197] [/device:CPU:0] (DEBUG INFO) Executor start aborting (this does not indicate an error and you can ignore this message): INVALID_ARGUMENT: You must feed a value for placeholder tensor 'gradients/split_2_grad/concat/split_2/split_dim' with dtype int32\n",
            "\t [[{{node gradients/split_2_grad/concat/split_2/split_dim}}]]\n",
            "2023-06-07 01:29:11.251867: I tensorflow/core/common_runtime/executor.cc:1197] [/device:CPU:0] (DEBUG INFO) Executor start aborting (this does not indicate an error and you can ignore this message): INVALID_ARGUMENT: You must feed a value for placeholder tensor 'gradients/split_grad/concat/split/split_dim' with dtype int32\n",
            "\t [[{{node gradients/split_grad/concat/split/split_dim}}]]\n",
            "2023-06-07 01:29:11.253336: I tensorflow/core/common_runtime/executor.cc:1197] [/device:CPU:0] (DEBUG INFO) Executor start aborting (this does not indicate an error and you can ignore this message): INVALID_ARGUMENT: You must feed a value for placeholder tensor 'gradients/split_1_grad/concat/split_1/split_dim' with dtype int32\n",
            "\t [[{{node gradients/split_1_grad/concat/split_1/split_dim}}]]\n",
            "2023-06-07 01:29:11.438226: I tensorflow/core/common_runtime/executor.cc:1197] [/device:CPU:0] (DEBUG INFO) Executor start aborting (this does not indicate an error and you can ignore this message): INVALID_ARGUMENT: You must feed a value for placeholder tensor 'gradients/split_2_grad/concat/split_2/split_dim' with dtype int32\n",
            "\t [[{{node gradients/split_2_grad/concat/split_2/split_dim}}]]\n",
            "2023-06-07 01:29:11.439410: I tensorflow/core/common_runtime/executor.cc:1197] [/device:CPU:0] (DEBUG INFO) Executor start aborting (this does not indicate an error and you can ignore this message): INVALID_ARGUMENT: You must feed a value for placeholder tensor 'gradients/split_grad/concat/split/split_dim' with dtype int32\n",
            "\t [[{{node gradients/split_grad/concat/split/split_dim}}]]\n",
            "2023-06-07 01:29:11.440758: I tensorflow/core/common_runtime/executor.cc:1197] [/device:CPU:0] (DEBUG INFO) Executor start aborting (this does not indicate an error and you can ignore this message): INVALID_ARGUMENT: You must feed a value for placeholder tensor 'gradients/split_1_grad/concat/split_1/split_dim' with dtype int32\n",
            "\t [[{{node gradients/split_1_grad/concat/split_1/split_dim}}]]\n"
          ]
        }
      ],
      "source": [
        "model = Sequential()\n",
        "model.add(LSTM(100, return_sequences=True, input_shape= (x_train.shape[1], 1)))\n",
        "model.add(LSTM(100, return_sequences=False))\n",
        "model.add(Dense(50))\n",
        "model.add(Dense(25))\n",
        "model.add(Dense(1))"
      ]
    },
    {
      "cell_type": "markdown",
      "id": "b99b8da2",
      "metadata": {
        "id": "b99b8da2"
      },
      "source": [
        "# Compile the model"
      ]
    },
    {
      "cell_type": "code",
      "execution_count": null,
      "id": "d9b4e92e",
      "metadata": {
        "id": "d9b4e92e",
        "outputId": "adea2a7e-c79f-4b4e-8eb4-1e6b99d98734"
      },
      "outputs": [
        {
          "name": "stdout",
          "output_type": "stream",
          "text": [
            "Model: \"sequential_8\"\n",
            "_________________________________________________________________\n",
            " Layer (type)                Output Shape              Param #   \n",
            "=================================================================\n",
            " lstm (LSTM)                 (None, 60, 100)           40800     \n",
            "                                                                 \n",
            " lstm_1 (LSTM)               (None, 100)               80400     \n",
            "                                                                 \n",
            " dense (Dense)               (None, 50)                5050      \n",
            "                                                                 \n",
            " dense_1 (Dense)             (None, 25)                1275      \n",
            "                                                                 \n",
            " dense_2 (Dense)             (None, 1)                 26        \n",
            "                                                                 \n",
            "=================================================================\n",
            "Total params: 127,551\n",
            "Trainable params: 127,551\n",
            "Non-trainable params: 0\n",
            "_________________________________________________________________\n"
          ]
        }
      ],
      "source": [
        "model.compile(optimizer='adam', loss='mean_squared_error')\n",
        "model.summary()"
      ]
    },
    {
      "cell_type": "markdown",
      "id": "c02fd7e6",
      "metadata": {
        "id": "c02fd7e6"
      },
      "source": [
        "# Train the model"
      ]
    },
    {
      "cell_type": "code",
      "execution_count": null,
      "id": "c117326d",
      "metadata": {
        "id": "c117326d",
        "outputId": "82c91071-b680-4dc5-a8ea-fdacd7c6639f"
      },
      "outputs": [
        {
          "name": "stdout",
          "output_type": "stream",
          "text": [
            "Epoch 1/10\n"
          ]
        },
        {
          "name": "stderr",
          "output_type": "stream",
          "text": [
            "2023-06-07 01:30:17.931152: I tensorflow/core/common_runtime/executor.cc:1197] [/device:CPU:0] (DEBUG INFO) Executor start aborting (this does not indicate an error and you can ignore this message): INVALID_ARGUMENT: You must feed a value for placeholder tensor 'gradients/split_2_grad/concat/split_2/split_dim' with dtype int32\n",
            "\t [[{{node gradients/split_2_grad/concat/split_2/split_dim}}]]\n",
            "2023-06-07 01:30:17.933237: I tensorflow/core/common_runtime/executor.cc:1197] [/device:CPU:0] (DEBUG INFO) Executor start aborting (this does not indicate an error and you can ignore this message): INVALID_ARGUMENT: You must feed a value for placeholder tensor 'gradients/split_grad/concat/split/split_dim' with dtype int32\n",
            "\t [[{{node gradients/split_grad/concat/split/split_dim}}]]\n",
            "2023-06-07 01:30:17.934455: I tensorflow/core/common_runtime/executor.cc:1197] [/device:CPU:0] (DEBUG INFO) Executor start aborting (this does not indicate an error and you can ignore this message): INVALID_ARGUMENT: You must feed a value for placeholder tensor 'gradients/split_1_grad/concat/split_1/split_dim' with dtype int32\n",
            "\t [[{{node gradients/split_1_grad/concat/split_1/split_dim}}]]\n",
            "2023-06-07 01:30:18.123711: I tensorflow/core/common_runtime/executor.cc:1197] [/device:CPU:0] (DEBUG INFO) Executor start aborting (this does not indicate an error and you can ignore this message): INVALID_ARGUMENT: You must feed a value for placeholder tensor 'gradients/split_2_grad/concat/split_2/split_dim' with dtype int32\n",
            "\t [[{{node gradients/split_2_grad/concat/split_2/split_dim}}]]\n",
            "2023-06-07 01:30:18.125254: I tensorflow/core/common_runtime/executor.cc:1197] [/device:CPU:0] (DEBUG INFO) Executor start aborting (this does not indicate an error and you can ignore this message): INVALID_ARGUMENT: You must feed a value for placeholder tensor 'gradients/split_grad/concat/split/split_dim' with dtype int32\n",
            "\t [[{{node gradients/split_grad/concat/split/split_dim}}]]\n",
            "2023-06-07 01:30:18.126531: I tensorflow/core/common_runtime/executor.cc:1197] [/device:CPU:0] (DEBUG INFO) Executor start aborting (this does not indicate an error and you can ignore this message): INVALID_ARGUMENT: You must feed a value for placeholder tensor 'gradients/split_1_grad/concat/split_1/split_dim' with dtype int32\n",
            "\t [[{{node gradients/split_1_grad/concat/split_1/split_dim}}]]\n",
            "2023-06-07 01:30:19.138405: I tensorflow/core/common_runtime/executor.cc:1197] [/device:CPU:0] (DEBUG INFO) Executor start aborting (this does not indicate an error and you can ignore this message): INVALID_ARGUMENT: You must feed a value for placeholder tensor 'gradients/split_2_grad/concat/split_2/split_dim' with dtype int32\n",
            "\t [[{{node gradients/split_2_grad/concat/split_2/split_dim}}]]\n",
            "2023-06-07 01:30:19.140380: I tensorflow/core/common_runtime/executor.cc:1197] [/device:CPU:0] (DEBUG INFO) Executor start aborting (this does not indicate an error and you can ignore this message): INVALID_ARGUMENT: You must feed a value for placeholder tensor 'gradients/split_grad/concat/split/split_dim' with dtype int32\n",
            "\t [[{{node gradients/split_grad/concat/split/split_dim}}]]\n",
            "2023-06-07 01:30:19.141664: I tensorflow/core/common_runtime/executor.cc:1197] [/device:CPU:0] (DEBUG INFO) Executor start aborting (this does not indicate an error and you can ignore this message): INVALID_ARGUMENT: You must feed a value for placeholder tensor 'gradients/split_1_grad/concat/split_1/split_dim' with dtype int32\n",
            "\t [[{{node gradients/split_1_grad/concat/split_1/split_dim}}]]\n",
            "2023-06-07 01:30:19.355527: I tensorflow/core/common_runtime/executor.cc:1197] [/device:CPU:0] (DEBUG INFO) Executor start aborting (this does not indicate an error and you can ignore this message): INVALID_ARGUMENT: You must feed a value for placeholder tensor 'gradients/split_2_grad/concat/split_2/split_dim' with dtype int32\n",
            "\t [[{{node gradients/split_2_grad/concat/split_2/split_dim}}]]\n",
            "2023-06-07 01:30:19.358016: I tensorflow/core/common_runtime/executor.cc:1197] [/device:CPU:0] (DEBUG INFO) Executor start aborting (this does not indicate an error and you can ignore this message): INVALID_ARGUMENT: You must feed a value for placeholder tensor 'gradients/split_grad/concat/split/split_dim' with dtype int32\n",
            "\t [[{{node gradients/split_grad/concat/split/split_dim}}]]\n",
            "2023-06-07 01:30:19.359499: I tensorflow/core/common_runtime/executor.cc:1197] [/device:CPU:0] (DEBUG INFO) Executor start aborting (this does not indicate an error and you can ignore this message): INVALID_ARGUMENT: You must feed a value for placeholder tensor 'gradients/split_1_grad/concat/split_1/split_dim' with dtype int32\n",
            "\t [[{{node gradients/split_1_grad/concat/split_1/split_dim}}]]\n"
          ]
        },
        {
          "name": "stdout",
          "output_type": "stream",
          "text": [
            "5/5 [==============================] - 4s 99ms/step - loss: 0.3908\n",
            "Epoch 2/10\n",
            "5/5 [==============================] - 1s 105ms/step - loss: 0.1467\n",
            "Epoch 3/10\n",
            "5/5 [==============================] - 0s 92ms/step - loss: 0.1126\n",
            "Epoch 4/10\n",
            "5/5 [==============================] - 1s 103ms/step - loss: 0.0847\n",
            "Epoch 5/10\n",
            "5/5 [==============================] - 1s 127ms/step - loss: 0.0709\n",
            "Epoch 6/10\n",
            "5/5 [==============================] - 0s 95ms/step - loss: 0.0718\n",
            "Epoch 7/10\n",
            "5/5 [==============================] - 0s 95ms/step - loss: 0.0596\n",
            "Epoch 8/10\n",
            "5/5 [==============================] - 0s 92ms/step - loss: 0.0577\n",
            "Epoch 9/10\n",
            "5/5 [==============================] - 0s 98ms/step - loss: 0.0553\n",
            "Epoch 10/10\n",
            "5/5 [==============================] - 0s 93ms/step - loss: 0.0489\n"
          ]
        }
      ],
      "source": [
        "history = model.fit(x_train, y_train, epochs=10, batch_size=32)"
      ]
    },
    {
      "cell_type": "code",
      "execution_count": null,
      "id": "6aec0f4d",
      "metadata": {
        "id": "6aec0f4d",
        "outputId": "b179f593-8074-4c68-c0ce-cf24a9832687"
      },
      "outputs": [
        {
          "data": {
            "text/plain": [
              "[<matplotlib.lines.Line2D at 0x7f9304c22700>]"
            ]
          },
          "execution_count": 37,
          "metadata": {},
          "output_type": "execute_result"
        },
        {
          "data": {
            "image/png": "[encoded data removed]",
            "text/plain": [
              "<Figure size 640x480 with 1 Axes>"
            ]
          },
          "metadata": {},
          "output_type": "display_data"
        }
      ],
      "source": [
        "plt.plot(history.history['loss'])"
      ]
    },
    {
      "cell_type": "markdown",
      "id": "e812a737",
      "metadata": {
        "id": "e812a737"
      },
      "source": [
        "# Create the data - x_test and y_test"
      ]
    },
    {
      "cell_type": "code",
      "execution_count": null,
      "id": "4f3244d1",
      "metadata": {
        "id": "4f3244d1"
      },
      "outputs": [],
      "source": [
        "test_data = scaled_data[training_data_len - 60: , :]"
      ]
    },
    {
      "cell_type": "code",
      "execution_count": null,
      "id": "fc0095a4",
      "metadata": {
        "id": "fc0095a4"
      },
      "outputs": [],
      "source": [
        "x_test = []\n",
        "y_test = dataset[training_data_len:, :]\n",
        "for i in range(60, len(test_data)):\n",
        "    x_test.append(test_data[i-60:i, 0])\n"
      ]
    },
    {
      "cell_type": "markdown",
      "id": "9f018baf",
      "metadata": {
        "id": "9f018baf"
      },
      "source": [
        "# Convert the data to a numpy array"
      ]
    },
    {
      "cell_type": "code",
      "execution_count": null,
      "id": "d00cf025",
      "metadata": {
        "id": "d00cf025"
      },
      "outputs": [],
      "source": [
        "x_test = np.array(x_test)"
      ]
    },
    {
      "cell_type": "markdown",
      "id": "f7a9415d",
      "metadata": {
        "id": "f7a9415d"
      },
      "source": [
        "# Reshape the data - x_test"
      ]
    },
    {
      "cell_type": "code",
      "execution_count": null,
      "id": "51df7898",
      "metadata": {
        "id": "51df7898"
      },
      "outputs": [],
      "source": [
        "x_test = np.reshape(x_test, (x_test.shape[0], x_test.shape[1], 1 ))"
      ]
    },
    {
      "cell_type": "markdown",
      "id": "1efc6cf9",
      "metadata": {
        "id": "1efc6cf9"
      },
      "source": [
        "# Evaluate the model\n"
      ]
    },
    {
      "cell_type": "code",
      "execution_count": null,
      "id": "d850dc66",
      "metadata": {
        "id": "d850dc66",
        "outputId": "288d5566-c2b5-4bad-f809-f160df777581"
      },
      "outputs": [
        {
          "name": "stderr",
          "output_type": "stream",
          "text": [
            "2023-06-07 01:33:26.923614: I tensorflow/core/common_runtime/executor.cc:1197] [/device:CPU:0] (DEBUG INFO) Executor start aborting (this does not indicate an error and you can ignore this message): INVALID_ARGUMENT: You must feed a value for placeholder tensor 'gradients/split_2_grad/concat/split_2/split_dim' with dtype int32\n",
            "\t [[{{node gradients/split_2_grad/concat/split_2/split_dim}}]]\n",
            "2023-06-07 01:33:26.925397: I tensorflow/core/common_runtime/executor.cc:1197] [/device:CPU:0] (DEBUG INFO) Executor start aborting (this does not indicate an error and you can ignore this message): INVALID_ARGUMENT: You must feed a value for placeholder tensor 'gradients/split_grad/concat/split/split_dim' with dtype int32\n",
            "\t [[{{node gradients/split_grad/concat/split/split_dim}}]]\n",
            "2023-06-07 01:33:26.926515: I tensorflow/core/common_runtime/executor.cc:1197] [/device:CPU:0] (DEBUG INFO) Executor start aborting (this does not indicate an error and you can ignore this message): INVALID_ARGUMENT: You must feed a value for placeholder tensor 'gradients/split_1_grad/concat/split_1/split_dim' with dtype int32\n",
            "\t [[{{node gradients/split_1_grad/concat/split_1/split_dim}}]]\n",
            "2023-06-07 01:33:27.100077: I tensorflow/core/common_runtime/executor.cc:1197] [/device:CPU:0] (DEBUG INFO) Executor start aborting (this does not indicate an error and you can ignore this message): INVALID_ARGUMENT: You must feed a value for placeholder tensor 'gradients/split_2_grad/concat/split_2/split_dim' with dtype int32\n",
            "\t [[{{node gradients/split_2_grad/concat/split_2/split_dim}}]]\n",
            "2023-06-07 01:33:27.101326: I tensorflow/core/common_runtime/executor.cc:1197] [/device:CPU:0] (DEBUG INFO) Executor start aborting (this does not indicate an error and you can ignore this message): INVALID_ARGUMENT: You must feed a value for placeholder tensor 'gradients/split_grad/concat/split/split_dim' with dtype int32\n",
            "\t [[{{node gradients/split_grad/concat/split/split_dim}}]]\n",
            "2023-06-07 01:33:27.102700: I tensorflow/core/common_runtime/executor.cc:1197] [/device:CPU:0] (DEBUG INFO) Executor start aborting (this does not indicate an error and you can ignore this message): INVALID_ARGUMENT: You must feed a value for placeholder tensor 'gradients/split_1_grad/concat/split_1/split_dim' with dtype int32\n",
            "\t [[{{node gradients/split_1_grad/concat/split_1/split_dim}}]]\n",
            "2023-06-07 01:33:27.851844: I tensorflow/core/common_runtime/executor.cc:1197] [/device:CPU:0] (DEBUG INFO) Executor start aborting (this does not indicate an error and you can ignore this message): INVALID_ARGUMENT: You must feed a value for placeholder tensor 'gradients/split_2_grad/concat/split_2/split_dim' with dtype int32\n",
            "\t [[{{node gradients/split_2_grad/concat/split_2/split_dim}}]]\n",
            "2023-06-07 01:33:27.853665: I tensorflow/core/common_runtime/executor.cc:1197] [/device:CPU:0] (DEBUG INFO) Executor start aborting (this does not indicate an error and you can ignore this message): INVALID_ARGUMENT: You must feed a value for placeholder tensor 'gradients/split_grad/concat/split/split_dim' with dtype int32\n",
            "\t [[{{node gradients/split_grad/concat/split/split_dim}}]]\n",
            "2023-06-07 01:33:27.854851: I tensorflow/core/common_runtime/executor.cc:1197] [/device:CPU:0] (DEBUG INFO) Executor start aborting (this does not indicate an error and you can ignore this message): INVALID_ARGUMENT: You must feed a value for placeholder tensor 'gradients/split_1_grad/concat/split_1/split_dim' with dtype int32\n",
            "\t [[{{node gradients/split_1_grad/concat/split_1/split_dim}}]]\n",
            "2023-06-07 01:33:28.048087: I tensorflow/core/common_runtime/executor.cc:1197] [/device:CPU:0] (DEBUG INFO) Executor start aborting (this does not indicate an error and you can ignore this message): INVALID_ARGUMENT: You must feed a value for placeholder tensor 'gradients/split_2_grad/concat/split_2/split_dim' with dtype int32\n",
            "\t [[{{node gradients/split_2_grad/concat/split_2/split_dim}}]]\n",
            "2023-06-07 01:33:28.049312: I tensorflow/core/common_runtime/executor.cc:1197] [/device:CPU:0] (DEBUG INFO) Executor start aborting (this does not indicate an error and you can ignore this message): INVALID_ARGUMENT: You must feed a value for placeholder tensor 'gradients/split_grad/concat/split/split_dim' with dtype int32\n",
            "\t [[{{node gradients/split_grad/concat/split/split_dim}}]]\n",
            "2023-06-07 01:33:28.050679: I tensorflow/core/common_runtime/executor.cc:1197] [/device:CPU:0] (DEBUG INFO) Executor start aborting (this does not indicate an error and you can ignore this message): INVALID_ARGUMENT: You must feed a value for placeholder tensor 'gradients/split_1_grad/concat/split_1/split_dim' with dtype int32\n",
            "\t [[{{node gradients/split_1_grad/concat/split_1/split_dim}}]]\n"
          ]
        },
        {
          "name": "stdout",
          "output_type": "stream",
          "text": [
            "Train Loss: 910689.8125\n",
            "Test Loss: 910689.8125\n"
          ]
        }
      ],
      "source": [
        "train_loss = model.evaluate(x_train, y_train, verbose=0)\n",
        "train_loss = model.evaluate(x_test, y_test, verbose=0)\n",
        "print(f\"Train Loss: {train_loss:.4f}\")\n",
        "print(f\"Test Loss: {train_loss:.4f}\")"
      ]
    },
    {
      "cell_type": "markdown",
      "id": "d34e3613",
      "metadata": {
        "id": "d34e3613"
      },
      "source": [
        "# Price Value Prediction"
      ]
    },
    {
      "cell_type": "code",
      "execution_count": null,
      "id": "1a878b5e",
      "metadata": {
        "id": "1a878b5e",
        "outputId": "86338b08-f799-46b4-d5c9-b1a58f169cd1"
      },
      "outputs": [
        {
          "name": "stderr",
          "output_type": "stream",
          "text": [
            "2023-06-07 01:34:03.159186: I tensorflow/core/common_runtime/executor.cc:1197] [/device:CPU:0] (DEBUG INFO) Executor start aborting (this does not indicate an error and you can ignore this message): INVALID_ARGUMENT: You must feed a value for placeholder tensor 'gradients/split_2_grad/concat/split_2/split_dim' with dtype int32\n",
            "\t [[{{node gradients/split_2_grad/concat/split_2/split_dim}}]]\n",
            "2023-06-07 01:34:03.160950: I tensorflow/core/common_runtime/executor.cc:1197] [/device:CPU:0] (DEBUG INFO) Executor start aborting (this does not indicate an error and you can ignore this message): INVALID_ARGUMENT: You must feed a value for placeholder tensor 'gradients/split_grad/concat/split/split_dim' with dtype int32\n",
            "\t [[{{node gradients/split_grad/concat/split/split_dim}}]]\n",
            "2023-06-07 01:34:03.162280: I tensorflow/core/common_runtime/executor.cc:1197] [/device:CPU:0] (DEBUG INFO) Executor start aborting (this does not indicate an error and you can ignore this message): INVALID_ARGUMENT: You must feed a value for placeholder tensor 'gradients/split_1_grad/concat/split_1/split_dim' with dtype int32\n",
            "\t [[{{node gradients/split_1_grad/concat/split_1/split_dim}}]]\n",
            "2023-06-07 01:34:03.338245: I tensorflow/core/common_runtime/executor.cc:1197] [/device:CPU:0] (DEBUG INFO) Executor start aborting (this does not indicate an error and you can ignore this message): INVALID_ARGUMENT: You must feed a value for placeholder tensor 'gradients/split_2_grad/concat/split_2/split_dim' with dtype int32\n",
            "\t [[{{node gradients/split_2_grad/concat/split_2/split_dim}}]]\n",
            "2023-06-07 01:34:03.339450: I tensorflow/core/common_runtime/executor.cc:1197] [/device:CPU:0] (DEBUG INFO) Executor start aborting (this does not indicate an error and you can ignore this message): INVALID_ARGUMENT: You must feed a value for placeholder tensor 'gradients/split_grad/concat/split/split_dim' with dtype int32\n",
            "\t [[{{node gradients/split_grad/concat/split/split_dim}}]]\n",
            "2023-06-07 01:34:03.340764: I tensorflow/core/common_runtime/executor.cc:1197] [/device:CPU:0] (DEBUG INFO) Executor start aborting (this does not indicate an error and you can ignore this message): INVALID_ARGUMENT: You must feed a value for placeholder tensor 'gradients/split_1_grad/concat/split_1/split_dim' with dtype int32\n",
            "\t [[{{node gradients/split_1_grad/concat/split_1/split_dim}}]]\n"
          ]
        },
        {
          "name": "stdout",
          "output_type": "stream",
          "text": [
            "2/2 [==============================] - 1s 31ms/step\n"
          ]
        }
      ],
      "source": [
        "predictions = model.predict(x_test)\n",
        "predictions = scaler.inverse_transform(predictions)"
      ]
    },
    {
      "cell_type": "markdown",
      "id": "22cf3bfc",
      "metadata": {
        "id": "22cf3bfc"
      },
      "source": [
        "# Calculate RMSE"
      ]
    },
    {
      "cell_type": "code",
      "execution_count": null,
      "id": "fbcb4861",
      "metadata": {
        "id": "fbcb4861",
        "outputId": "27eae5dd-b2b1-46a0-95d0-73f95994108d"
      },
      "outputs": [
        {
          "data": {
            "text/plain": [
              "18.630985460499907"
            ]
          },
          "execution_count": 46,
          "metadata": {},
          "output_type": "execute_result"
        }
      ],
      "source": [
        "rmse = np.sqrt(np.mean(((predictions - y_test) ** 2)))\n",
        "rmse"
      ]
    },
    {
      "cell_type": "markdown",
      "id": "78c84be3",
      "metadata": {
        "id": "78c84be3"
      },
      "source": [
        "# Plot the data"
      ]
    },
    {
      "cell_type": "code",
      "execution_count": null,
      "id": "dca17847",
      "metadata": {
        "id": "dca17847"
      },
      "outputs": [],
      "source": [
        "train = data[:training_data_len]\n",
        "valid = data[training_data_len:]\n",
        "valid['Predictions'] = predictions"
      ]
    },
    {
      "cell_type": "code",
      "execution_count": null,
      "id": "87892306",
      "metadata": {
        "id": "87892306",
        "outputId": "e103b539-85bd-4992-f2a9-cf3ecfdddd92"
      },
      "outputs": [
        {
          "data": {
            "image/png": "[encoded data removed]",
            "text/plain": [
              "<Figure size 1600x600 with 1 Axes>"
            ]
          },
          "metadata": {},
          "output_type": "display_data"
        }
      ],
      "source": [
        "plt.figure(figsize=(16,6))\n",
        "plt.title('Prediction of Closing Price')\n",
        "plt.xlabel('Time ')\n",
        "plt.ylabel('Close Price ($)')\n",
        "plt.plot(train['Close'])\n",
        "plt.plot(valid[['Close', 'Predictions']])\n",
        "plt.legend(['Train', 'Test', 'Predictions'], loc='lower right')\n",
        "plt.show()"
      ]
    },
    {
      "cell_type": "markdown",
      "id": "ff94d2e3",
      "metadata": {
        "id": "ff94d2e3"
      },
      "source": [
        "# Show the valid and predicted prices"
      ]
    },
    {
      "cell_type": "code",
      "execution_count": null,
      "id": "e696c83e",
      "metadata": {
        "id": "e696c83e",
        "outputId": "21ddef81-cfe3-4d48-9056-56629c288739"
      },
      "outputs": [
        {
          "data": {
            "text/html": [
              "<div>\n",
              "<style scoped>\n",
              "    .dataframe tbody tr th:only-of-type {\n",
              "        vertical-align: middle;\n",
              "    }\n",
              "\n",
              "    .dataframe tbody tr th {\n",
              "        vertical-align: top;\n",
              "    }\n",
              "\n",
              "    .dataframe thead th {\n",
              "        text-align: right;\n",
              "    }\n",
              "</style>\n",
              "<table border=\"1\" class=\"dataframe\">\n",
              "  <thead>\n",
              "    <tr style=\"text-align: right;\">\n",
              "      <th></th>\n",
              "      <th>Close</th>\n",
              "      <th>Predictions</th>\n",
              "    </tr>\n",
              "  </thead>\n",
              "  <tbody>\n",
              "    <tr>\n",
              "      <th>202</th>\n",
              "      <td>927.000000</td>\n",
              "      <td>923.375061</td>\n",
              "    </tr>\n",
              "    <tr>\n",
              "      <th>203</th>\n",
              "      <td>921.280029</td>\n",
              "      <td>924.535706</td>\n",
              "    </tr>\n",
              "    <tr>\n",
              "      <th>204</th>\n",
              "      <td>915.890015</td>\n",
              "      <td>925.677490</td>\n",
              "    </tr>\n",
              "    <tr>\n",
              "      <th>205</th>\n",
              "      <td>913.809998</td>\n",
              "      <td>926.226685</td>\n",
              "    </tr>\n",
              "    <tr>\n",
              "      <th>206</th>\n",
              "      <td>921.289978</td>\n",
              "      <td>926.210510</td>\n",
              "    </tr>\n",
              "    <tr>\n",
              "      <th>207</th>\n",
              "      <td>929.570007</td>\n",
              "      <td>926.559326</td>\n",
              "    </tr>\n",
              "    <tr>\n",
              "      <th>208</th>\n",
              "      <td>939.330017</td>\n",
              "      <td>927.825256</td>\n",
              "    </tr>\n",
              "    <tr>\n",
              "      <th>209</th>\n",
              "      <td>937.340027</td>\n",
              "      <td>930.352966</td>\n",
              "    </tr>\n",
              "    <tr>\n",
              "      <th>210</th>\n",
              "      <td>928.450012</td>\n",
              "      <td>933.135864</td>\n",
              "    </tr>\n",
              "    <tr>\n",
              "      <th>211</th>\n",
              "      <td>927.809998</td>\n",
              "      <td>934.974548</td>\n",
              "    </tr>\n",
              "    <tr>\n",
              "      <th>212</th>\n",
              "      <td>935.950012</td>\n",
              "      <td>936.036072</td>\n",
              "    </tr>\n",
              "    <tr>\n",
              "      <th>213</th>\n",
              "      <td>926.500000</td>\n",
              "      <td>937.258850</td>\n",
              "    </tr>\n",
              "    <tr>\n",
              "      <th>214</th>\n",
              "      <td>929.080017</td>\n",
              "      <td>937.578613</td>\n",
              "    </tr>\n",
              "    <tr>\n",
              "      <th>215</th>\n",
              "      <td>932.070007</td>\n",
              "      <td>937.585815</td>\n",
              "    </tr>\n",
              "    <tr>\n",
              "      <th>216</th>\n",
              "      <td>935.090027</td>\n",
              "      <td>937.660095</td>\n",
              "    </tr>\n",
              "    <tr>\n",
              "      <th>217</th>\n",
              "      <td>925.109985</td>\n",
              "      <td>938.011108</td>\n",
              "    </tr>\n",
              "    <tr>\n",
              "      <th>218</th>\n",
              "      <td>920.289978</td>\n",
              "      <td>937.581787</td>\n",
              "    </tr>\n",
              "    <tr>\n",
              "      <th>219</th>\n",
              "      <td>915.000000</td>\n",
              "      <td>936.335938</td>\n",
              "    </tr>\n",
              "    <tr>\n",
              "      <th>220</th>\n",
              "      <td>921.809998</td>\n",
              "      <td>934.283508</td>\n",
              "    </tr>\n",
              "    <tr>\n",
              "      <th>221</th>\n",
              "      <td>931.580017</td>\n",
              "      <td>932.587830</td>\n",
              "    </tr>\n",
              "    <tr>\n",
              "      <th>222</th>\n",
              "      <td>932.450012</td>\n",
              "      <td>932.124817</td>\n",
              "    </tr>\n",
              "    <tr>\n",
              "      <th>223</th>\n",
              "      <td>928.530029</td>\n",
              "      <td>932.473206</td>\n",
              "    </tr>\n",
              "    <tr>\n",
              "      <th>224</th>\n",
              "      <td>920.969971</td>\n",
              "      <td>932.898621</td>\n",
              "    </tr>\n",
              "    <tr>\n",
              "      <th>225</th>\n",
              "      <td>924.859985</td>\n",
              "      <td>932.660706</td>\n",
              "    </tr>\n",
              "    <tr>\n",
              "      <th>226</th>\n",
              "      <td>944.489990</td>\n",
              "      <td>932.431824</td>\n",
              "    </tr>\n",
              "    <tr>\n",
              "      <th>227</th>\n",
              "      <td>949.500000</td>\n",
              "      <td>933.973633</td>\n",
              "    </tr>\n",
              "    <tr>\n",
              "      <th>228</th>\n",
              "      <td>959.109985</td>\n",
              "      <td>936.761658</td>\n",
              "    </tr>\n",
              "    <tr>\n",
              "      <th>229</th>\n",
              "      <td>953.270020</td>\n",
              "      <td>940.774475</td>\n",
              "    </tr>\n",
              "    <tr>\n",
              "      <th>230</th>\n",
              "      <td>957.789978</td>\n",
              "      <td>944.490295</td>\n",
              "    </tr>\n",
              "    <tr>\n",
              "      <th>231</th>\n",
              "      <td>951.679993</td>\n",
              "      <td>948.014221</td>\n",
              "    </tr>\n",
              "    <tr>\n",
              "      <th>232</th>\n",
              "      <td>969.960022</td>\n",
              "      <td>950.485657</td>\n",
              "    </tr>\n",
              "    <tr>\n",
              "      <th>233</th>\n",
              "      <td>978.890015</td>\n",
              "      <td>953.637939</td>\n",
              "    </tr>\n",
              "    <tr>\n",
              "      <th>234</th>\n",
              "      <td>977.000000</td>\n",
              "      <td>957.468994</td>\n",
              "    </tr>\n",
              "    <tr>\n",
              "      <th>235</th>\n",
              "      <td>972.599976</td>\n",
              "      <td>961.000549</td>\n",
              "    </tr>\n",
              "    <tr>\n",
              "      <th>236</th>\n",
              "      <td>989.250000</td>\n",
              "      <td>963.555725</td>\n",
              "    </tr>\n",
              "    <tr>\n",
              "      <th>237</th>\n",
              "      <td>987.830017</td>\n",
              "      <td>966.597290</td>\n",
              "    </tr>\n",
              "    <tr>\n",
              "      <th>238</th>\n",
              "      <td>989.679993</td>\n",
              "      <td>969.319763</td>\n",
              "    </tr>\n",
              "    <tr>\n",
              "      <th>239</th>\n",
              "      <td>992.000000</td>\n",
              "      <td>971.638733</td>\n",
              "    </tr>\n",
              "    <tr>\n",
              "      <th>240</th>\n",
              "      <td>992.179993</td>\n",
              "      <td>973.580994</td>\n",
              "    </tr>\n",
              "    <tr>\n",
              "      <th>241</th>\n",
              "      <td>992.809998</td>\n",
              "      <td>975.035339</td>\n",
              "    </tr>\n",
              "    <tr>\n",
              "      <th>242</th>\n",
              "      <td>984.450012</td>\n",
              "      <td>976.043335</td>\n",
              "    </tr>\n",
              "    <tr>\n",
              "      <th>243</th>\n",
              "      <td>988.200012</td>\n",
              "      <td>975.985596</td>\n",
              "    </tr>\n",
              "    <tr>\n",
              "      <th>244</th>\n",
              "      <td>968.450012</td>\n",
              "      <td>975.628906</td>\n",
              "    </tr>\n",
              "    <tr>\n",
              "      <th>245</th>\n",
              "      <td>970.539978</td>\n",
              "      <td>973.555664</td>\n",
              "    </tr>\n",
              "    <tr>\n",
              "      <th>246</th>\n",
              "      <td>973.330017</td>\n",
              "      <td>970.978271</td>\n",
              "    </tr>\n",
              "    <tr>\n",
              "      <th>247</th>\n",
              "      <td>972.559998</td>\n",
              "      <td>968.598267</td>\n",
              "    </tr>\n",
              "    <tr>\n",
              "      <th>248</th>\n",
              "      <td>1019.270020</td>\n",
              "      <td>966.500244</td>\n",
              "    </tr>\n",
              "    <tr>\n",
              "      <th>249</th>\n",
              "      <td>1017.109985</td>\n",
              "      <td>968.454895</td>\n",
              "    </tr>\n",
              "    <tr>\n",
              "      <th>250</th>\n",
              "      <td>1016.640015</td>\n",
              "      <td>972.001404</td>\n",
              "    </tr>\n",
              "    <tr>\n",
              "      <th>251</th>\n",
              "      <td>1025.500000</td>\n",
              "      <td>975.906189</td>\n",
              "    </tr>\n",
              "  </tbody>\n",
              "</table>\n",
              "</div>"
            ],
            "text/plain": [
              "           Close  Predictions\n",
              "202   927.000000   923.375061\n",
              "203   921.280029   924.535706\n",
              "204   915.890015   925.677490\n",
              "205   913.809998   926.226685\n",
              "206   921.289978   926.210510\n",
              "207   929.570007   926.559326\n",
              "208   939.330017   927.825256\n",
              "209   937.340027   930.352966\n",
              "210   928.450012   933.135864\n",
              "211   927.809998   934.974548\n",
              "212   935.950012   936.036072\n",
              "213   926.500000   937.258850\n",
              "214   929.080017   937.578613\n",
              "215   932.070007   937.585815\n",
              "216   935.090027   937.660095\n",
              "217   925.109985   938.011108\n",
              "218   920.289978   937.581787\n",
              "219   915.000000   936.335938\n",
              "220   921.809998   934.283508\n",
              "221   931.580017   932.587830\n",
              "222   932.450012   932.124817\n",
              "223   928.530029   932.473206\n",
              "224   920.969971   932.898621\n",
              "225   924.859985   932.660706\n",
              "226   944.489990   932.431824\n",
              "227   949.500000   933.973633\n",
              "228   959.109985   936.761658\n",
              "229   953.270020   940.774475\n",
              "230   957.789978   944.490295\n",
              "231   951.679993   948.014221\n",
              "232   969.960022   950.485657\n",
              "233   978.890015   953.637939\n",
              "234   977.000000   957.468994\n",
              "235   972.599976   961.000549\n",
              "236   989.250000   963.555725\n",
              "237   987.830017   966.597290\n",
              "238   989.679993   969.319763\n",
              "239   992.000000   971.638733\n",
              "240   992.179993   973.580994\n",
              "241   992.809998   975.035339\n",
              "242   984.450012   976.043335\n",
              "243   988.200012   975.985596\n",
              "244   968.450012   975.628906\n",
              "245   970.539978   973.555664\n",
              "246   973.330017   970.978271\n",
              "247   972.559998   968.598267\n",
              "248  1019.270020   966.500244\n",
              "249  1017.109985   968.454895\n",
              "250  1016.640015   972.001404\n",
              "251  1025.500000   975.906189"
            ]
          },
          "execution_count": 49,
          "metadata": {},
          "output_type": "execute_result"
        }
      ],
      "source": [
        "valid"
      ]
    },
    {
      "cell_type": "code",
      "execution_count": null,
      "id": "7d620352",
      "metadata": {
        "id": "7d620352"
      },
      "outputs": [],
      "source": []
    }
  ],
  "metadata": {
    "kernelspec": {
      "display_name": "Python 3 (ipykernel)",
      "language": "python",
      "name": "python3"
    },
    "language_info": {
      "codemirror_mode": {
        "name": "ipython",
        "version": 3
      },
      "file_extension": ".py",
      "mimetype": "text/x-python",
      "name": "python",
      "nbconvert_exporter": "python",
      "pygments_lexer": "ipython3",
      "version": "3.9.13"
    },
    "colab": {
      "provenance": [],
      "include_colab_link": true
    }
  },
  "nbformat": 4,
  "nbformat_minor": 5
}